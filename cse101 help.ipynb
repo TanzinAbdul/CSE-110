{
 "cells": [
  {
   "cell_type": "markdown",
   "id": "3d421d83",
   "metadata": {},
   "source": [
    "## Task - 1"
   ]
  },
  {
   "cell_type": "code",
   "execution_count": 9,
   "id": "c31116bf",
   "metadata": {},
   "outputs": [
    {
     "name": "stdout",
     "output_type": "stream",
     "text": [
      "2500\n"
     ]
    }
   ],
   "source": [
    "add = 0\n",
    "for i in range(100):\n",
    "    if i%2 != 0:\n",
    "        add += i\n",
    "        \n",
    "print(add)"
   ]
  },
  {
   "cell_type": "markdown",
   "id": "6ac1b6db",
   "metadata": {},
   "source": [
    "## Task - 2"
   ]
  },
  {
   "cell_type": "code",
   "execution_count": 13,
   "id": "926519eb",
   "metadata": {},
   "outputs": [
    {
     "name": "stdout",
     "output_type": "stream",
     "text": [
      "0\n",
      "15\n",
      "30\n",
      "45\n",
      "60\n"
     ]
    }
   ],
   "source": [
    "for i in range(61):\n",
    "    if i%5==0 and i%3==0:\n",
    "        print(i)"
   ]
  },
  {
   "cell_type": "markdown",
   "id": "d1d3ed82",
   "metadata": {},
   "source": [
    "## Task - 3"
   ]
  },
  {
   "cell_type": "code",
   "execution_count": 5,
   "id": "26cc554a",
   "metadata": {},
   "outputs": [
    {
     "name": "stdout",
     "output_type": "stream",
     "text": [
      "Enter row number: 5\n",
      "Enter column number: 6\n",
      "******\n",
      "******\n",
      "******\n",
      "******\n",
      "******\n"
     ]
    }
   ],
   "source": [
    "row = int(input('Enter row number: '))\n",
    "col = int(input('Enter column number: '))\n",
    "\n",
    "for i in range(row):\n",
    "    for j in range(col):\n",
    "        print('*', end='')\n",
    "    print()"
   ]
  },
  {
   "cell_type": "markdown",
   "id": "a4fe8508",
   "metadata": {},
   "source": [
    "## Task - 4\n"
   ]
  },
  {
   "cell_type": "code",
   "execution_count": 7,
   "id": "1d454b4c",
   "metadata": {},
   "outputs": [
    {
     "name": "stdout",
     "output_type": "stream",
     "text": [
      "Enter your string: Programming\n",
      "P\n",
      "o\n",
      "r\n",
      "m\n",
      "i\n",
      "g\n"
     ]
    }
   ],
   "source": [
    "string = input('Enter your string: ')\n",
    "for ind in range(len(string)):\n",
    "    if ind%2 ==0:\n",
    "        print(string[ind])"
   ]
  },
  {
   "cell_type": "markdown",
   "id": "2a3874df",
   "metadata": {},
   "source": [
    "## Task - 5 "
   ]
  },
  {
   "cell_type": "code",
   "execution_count": 16,
   "id": "3e9939b3",
   "metadata": {},
   "outputs": [
    {
     "name": "stdout",
     "output_type": "stream",
     "text": [
      "Enter total numbers that you would like to input:5\n",
      "Enter a nubmer: 3\n",
      "Enter a nubmer: -6\n",
      "Enter a nubmer: -8\n",
      "Enter a nubmer: 0\n",
      "Enter a nubmer: -1\n",
      "Total count of positive numbers: 1\n",
      "Total count of negative numbers: 3\n",
      "Total count of zeros: 1\n"
     ]
    }
   ],
   "source": [
    "zero_count = 0\n",
    "pos_count = 0\n",
    "neg_count = 0\n",
    "\n",
    "num = int(input('Enter total numbers that you would like to input:'))\n",
    "\n",
    "for i in range(num):\n",
    "    number = int(input(\"Enter a nubmer: \"))\n",
    "    if number == 0:\n",
    "        zero_count = 1\n",
    "    elif number > 0:\n",
    "        pos_count += 1\n",
    "    else:\n",
    "        neg_count += 1\n",
    "  \n",
    "print('Total count of positive numbers:', pos_count)\n",
    "print('Total count of negative numbers:', neg_count)\n",
    "print('Total count of zeros:', zero_count)\n"
   ]
  },
  {
   "cell_type": "markdown",
   "id": "2a222ca5",
   "metadata": {},
   "source": [
    "## Task - 6"
   ]
  },
  {
   "cell_type": "code",
   "execution_count": 22,
   "id": "697e4eaa",
   "metadata": {},
   "outputs": [
    {
     "name": "stdout",
     "output_type": "stream",
     "text": [
      "Enter a number: 6\n",
      "It's not a prime number\n"
     ]
    }
   ],
   "source": [
    "num = int(input('Enter a number: '))\n",
    "count= 0\n",
    "\n",
    "for i in range(2, num):\n",
    "    if num % i == 0:\n",
    "        count += 1\n",
    "if count == 0:\n",
    "    print(\"It's a prime number\")\n",
    "else:\n",
    "    print(\"It's not a prime number\")"
   ]
  },
  {
   "cell_type": "markdown",
   "id": "b07eb80f",
   "metadata": {},
   "source": [
    "## Task - 7 "
   ]
  },
  {
   "cell_type": "code",
   "execution_count": 23,
   "id": "cfa6b962",
   "metadata": {},
   "outputs": [
    {
     "name": "stdout",
     "output_type": "stream",
     "text": [
      "Enter total numbers that you would like to input: 4\n",
      "Enter a number: 1\n",
      "Enter your number: 2\n",
      "Enter your number: -13\n",
      "Enter your number: 0\n",
      "Maximum: 2\n",
      "Minimum: -13\n"
     ]
    }
   ],
   "source": [
    "ran = int(input('Enter total numbers that you would like to input: '))\n",
    "num = int(input('Enter a number: '))\n",
    "minimum = num\n",
    "maximum =num\n",
    "for i in range(ran-1):\n",
    "    num = int(input('Enter your number: '))\n",
    "    if num < minimum:\n",
    "        minimum = num\n",
    "    elif num > maximum:\n",
    "        maximum = num\n",
    "\n",
    "print('Maximum:', maximum)\n",
    "print('Minimum:', minimum)"
   ]
  }
 ],
 "metadata": {
  "kernelspec": {
   "display_name": "Python 3",
   "language": "python",
   "name": "python3"
  },
  "language_info": {
   "codemirror_mode": {
    "name": "ipython",
    "version": 3
   },
   "file_extension": ".py",
   "mimetype": "text/x-python",
   "name": "python",
   "nbconvert_exporter": "python",
   "pygments_lexer": "ipython3",
   "version": "3.8.8"
  }
 },
 "nbformat": 4,
 "nbformat_minor": 5
}
