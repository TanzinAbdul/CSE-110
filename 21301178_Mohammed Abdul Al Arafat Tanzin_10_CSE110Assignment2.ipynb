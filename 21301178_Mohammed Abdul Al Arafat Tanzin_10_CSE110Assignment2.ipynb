{
 "cells": [
  {
   "cell_type": "markdown",
   "metadata": {
    "id": "4wbfWEkOSK4T"
   },
   "source": [
    "# CSE110 Assignment 2 \n",
    "\n",
    "This assignment is to guide in solving basic programming problems using loop in Python. \n",
    "\n",
    "\n",
    "\n",
    "\n",
    "##Write your name, student ID and theory section number below:\n"
   ]
  },
  {
   "cell_type": "code",
   "execution_count": null,
   "metadata": {
    "id": "TUld3qrMgsFR"
   },
   "outputs": [],
   "source": [
    "#STUDENT NAME: MOHAMMED ABDUL AL ARAFAT TANZIN\n",
    "#STUDENT ID: 21301178\n",
    "#CSE110 SECTION: 10"
   ]
  },
  {
   "cell_type": "markdown",
   "metadata": {
    "id": "w269kMywSK4V"
   },
   "source": [
    "## Write the code in Python for following problems:\n",
    "\n",
    "**<font color='red'>[MUST MAINTAIN VARIABLE NAMING CONVENTIONS FOR ALL THE TASKS]</font>**\n",
    "\n",
    "### Task 1\n",
    "\n",
    "Write python program, which prints the following sequences of values in loops:\n",
    "\n",
    "a)\t24, 18, 12, 6, 0, -6\\\n",
    "b)\t-10, -5, 0, 5, 10, 15, 20\\\n",
    "c)\t18, 27, 36, 45, 54, 63\\\n",
    "d)\t18,-27, 36,-45,54,-63\n",
    "\n",
    "=====================================================================\n",
    "\n",
    "**Hints(1):** Use a while loop for solving these problems.\n",
    "\n",
    "**Hints(2):** We are already familiar with the print() function. But when we use it to print any value it automatically adds an additional newline after each print statement.\n",
    "\n",
    "For example:\\\n",
    "print(1)\\\n",
    "print(2)\n",
    "\n",
    "Output:\\\n",
    "1\\\n",
    "2\n",
    "\n",
    "=====================================================================\n",
    "\n",
    "To solve this problem, in Python3, we need to add an extra argument (end = \" \") in the print function which tells the program to skip printing the additional newline.\n",
    "\n",
    "For example:\\\n",
    "print(1, end =\" \")\\\n",
    "print(2)\n",
    "\n",
    "Output:(prints the next output right to the previous one)\\\n",
    "12\n",
    "\n",
    "=====================================================================\n",
    "\n",
    "In Task-1(a), the loop counter should be initialized at 24 and the loop should terminate when the loop counter reaches -6. The difference between the first two values is 24-18=6. So the loop counter value is getting decremented by 6 in every iteration.\n",
    "\n",
    "For your understanding task 1(a) code is done for you.\n"
   ]
  },
  {
   "cell_type": "code",
   "execution_count": null,
   "metadata": {
    "id": "H9nuTYCuSK4X",
    "outputId": "e1a08b2f-ccc1-4896-b1ec-5904ba1945d5"
   },
   "outputs": [
    {
     "name": "stdout",
     "output_type": "stream",
     "text": [
      "24, 18, 12, 6, 0, -6 "
     ]
    }
   ],
   "source": [
    "# a) 24, 18, 12, 6, 0, -6\n",
    "\n",
    "# initialize loop counter\n",
    "counter = 24\n",
    "\n",
    "# loop structure\n",
    "while counter >= -6:\n",
    "    \n",
    "    #inside loop body\n",
    "    if counter == -6:\n",
    "        print(counter, end = \" \") \n",
    "    else:\n",
    "        print(counter, end = \", \") \n",
    "     \n",
    "    counter = counter - 6 #updating loop counter\n",
    "    #inside loop body\n",
    "    \n",
    "#outside loop body"
   ]
  },
  {
   "cell_type": "code",
   "execution_count": null,
   "metadata": {
    "id": "YWLB_TuLSK4h",
    "outputId": "e443eb0e-2046-4a1d-fc8c-b516b443dfec"
   },
   "outputs": [
    {
     "name": "stdout",
     "output_type": "stream",
     "text": [
      "-10, -5, 0, 5, 10, 15, 20"
     ]
    }
   ],
   "source": [
    "# b)-10, -5, 0, 5, 10, 15, 20\n",
    "counter = -10\n",
    "while counter <= 20:\n",
    "    if counter ==20:\n",
    "        print(counter, end='')\n",
    "    else:\n",
    "        print(counter, end=', ')\n",
    "    counter = counter + 5"
   ]
  },
  {
   "cell_type": "code",
   "execution_count": null,
   "metadata": {
    "id": "b5blHg8zSK4n"
   },
   "outputs": [],
   "source": [
    "# c)18, 27, 36, 45, 54, 63\n",
    "counter = 18\n",
    "while counter <= 63:\n",
    "    if counter == 63:\n",
    "        print(counter, end='')\n",
    "    else:\n",
    "        print(counter, end=', ')\n",
    "    counter = counter + 9\n",
    "        "
   ]
  },
  {
   "cell_type": "markdown",
   "metadata": {
    "id": "VlRJZhqVSK4v"
   },
   "source": [
    "**Hints for 1(d):** \n",
    "\n",
    "print(5 * (-1)) gives output -5\\\n",
    "print(\"-\" + str(5)) gives output -5"
   ]
  },
  {
   "cell_type": "code",
   "execution_count": null,
   "metadata": {
    "id": "lA6BDPaaSK4v",
    "outputId": "3cb5415d-733b-4f0d-c3e3-dff11e110500"
   },
   "outputs": [
    {
     "name": "stdout",
     "output_type": "stream",
     "text": [
      "18, -27, 36, -45, 54, -63, "
     ]
    }
   ],
   "source": [
    "# d)18,-27, 36,-45,54,-63\n",
    "count = 18\n",
    "while count <= 63:\n",
    "    if count < 63 and count % 2 == 0:\n",
    "        print(count, end=', ')\n",
    "    else:\n",
    "        print((count*-1),  end=', ')\n",
    "    count += 9"
   ]
  },
  {
   "cell_type": "markdown",
   "metadata": {
    "id": "fB7DLiLjSK41"
   },
   "source": [
    "====================================================================\\\n",
    "<font color='blue'>\n",
    "All the tasks can be solved using both the \"while loop\" and the \"for loop\". But you need to choose the best looping construct which is the most suitable for solving a particular task.\n",
    "</font>\n",
    "\n",
    "===================================================================="
   ]
  },
  {
   "cell_type": "markdown",
   "metadata": {
    "id": "RGkTLNE8SK43"
   },
   "source": [
    "### Task 2\n",
    "Write a Python code for the following:\n",
    "\n",
    "1)\tAsk the user to enter the name of his favorite car.\\\n",
    "2)\tAsk the user to enter a Number\n",
    "\n",
    "Display the name of the user’s favorite car, the number of times specified in the second step.\n",
    "\n",
    "==========================================================\n",
    "\n",
    "**Example 01:** If the user enters “Toyota” and 20, your program should print the name “Toyota” twenty times.\n",
    "\n",
    "**Input:**\\\n",
    "Toyota\\\n",
    "2\n",
    "\n",
    "**Output:**\\\n",
    "Toyota\\\n",
    "Toyota\n",
    "\n",
    "==========================================================\n",
    "\n",
    "**Example02:** If the user enters “Veyron” and 5, your program should print the name “Veyron” five times.\n",
    "\n",
    "**Input:**\\\n",
    "Veyron\\\n",
    "5\n",
    "\n",
    "**Output:**\\\n",
    "Veyron\\\n",
    "Veyron\\\n",
    "Veyron\\\n",
    "Veyron\\\n",
    "Veyron\n"
   ]
  },
  {
   "cell_type": "code",
   "execution_count": null,
   "metadata": {
    "id": "u5yX33mvSK45",
    "outputId": "2a0daaaf-12d8-424b-de6c-a3a5682c7064"
   },
   "outputs": [
    {
     "name": "stdout",
     "output_type": "stream",
     "text": [
      "Name of your favorite car: Toyota\n",
      "Enter a number: 2\n",
      "Toyota\n",
      "Toyota\n"
     ]
    }
   ],
   "source": [
    "#Todo\n",
    "car = input(\"Name of your favorite car: \")\n",
    "num = int(input('Enter a number: '))\n",
    "for iteration in range(num):\n",
    "    print(car)"
   ]
  },
  {
   "cell_type": "markdown",
   "metadata": {
    "id": "xT0l0U35SK5A"
   },
   "source": [
    "### Task 3\n",
    "Write a Python code of a program that adds all numbers that are multiples of **both 7 and 9** up to 600 (including 600).\n",
    "\n",
    "Output: 2835\n"
   ]
  },
  {
   "cell_type": "code",
   "execution_count": 1,
   "metadata": {
    "colab": {
     "base_uri": "https://localhost:8080/"
    },
    "id": "Q6dix8WhSK5B",
    "outputId": "37af9766-7d82-4a5e-e4cb-5147c566f930"
   },
   "outputs": [
    {
     "name": "stdout",
     "output_type": "stream",
     "text": [
      "2835\n"
     ]
    }
   ],
   "source": [
    "#Todo\n",
    "addition = 0\n",
    "for iteration in range(601):\n",
    "    if (iteration % 7 == 0) and (iteration % 9 == 0):\n",
    "        addition += iteration\n",
    "\n",
    "print(addition)\n",
    "        "
   ]
  },
  {
   "cell_type": "markdown",
   "metadata": {
    "id": "8swUoCy9SK5F"
   },
   "source": [
    "### Task 4\n",
    "Write a Python code of a program that adds all numbers that are multiples of **either 7 or 9** up to 600(including 600). \\\n",
    "Ensure that numbers like 63 are added only once in the sum.\n",
    "\n",
    "Output: 42649\n"
   ]
  },
  {
   "cell_type": "code",
   "execution_count": 3,
   "metadata": {
    "colab": {
     "base_uri": "https://localhost:8080/"
    },
    "id": "pbIA-waFSK5G",
    "outputId": "2072a0a2-83b0-4ce8-a649-5051f020d465"
   },
   "outputs": [
    {
     "name": "stdout",
     "output_type": "stream",
     "text": [
      "42649\n"
     ]
    }
   ],
   "source": [
    "#Todo\n",
    "addition = 0\n",
    "for iteration in range(601):\n",
    "    if (iteration % 7 == 0) or (iteration % 9 == 0):\n",
    "        addition += iteration\n",
    "\n",
    "print(addition)"
   ]
  },
  {
   "cell_type": "markdown",
   "metadata": {
    "id": "H3hLyguASK5L"
   },
   "source": [
    "### Task 5\n",
    "Write a Python code of a program that adds all numbers that are multiples of **either 7 or 9 but not both**, up to 600(including 600).\n",
    "\n",
    "Output: 39814\n"
   ]
  },
  {
   "cell_type": "code",
   "execution_count": 4,
   "metadata": {
    "colab": {
     "base_uri": "https://localhost:8080/"
    },
    "id": "LiAvUr1QSK5M",
    "outputId": "2d6280da-4970-45fe-9a01-40638ce12581"
   },
   "outputs": [
    {
     "name": "stdout",
     "output_type": "stream",
     "text": [
      "39814\n"
     ]
    }
   ],
   "source": [
    "#Todo\n",
    "addition = 0\n",
    "for iteration in range(601):\n",
    "    if (iteration % 7 == 0) and (iteration % 9 != 0):\n",
    "        addition += iteration\n",
    "\n",
    "    elif(iteration % 9 == 0) and (iteration % 7 != 0):\n",
    "        addition += iteration\n",
    "print(addition)"
   ]
  },
  {
   "cell_type": "markdown",
   "metadata": {
    "id": "8SmvPvfaSK5P"
   },
   "source": [
    "### Task 6\n",
    "Write a Python code to displays all the **odd numbers** between 10 and 50.\n",
    "\n",
    "Output: 11 13 15 17 19 21 23 25 27 29 31 33 35 37 39 41 43 45 47 49\n"
   ]
  },
  {
   "cell_type": "code",
   "execution_count": 5,
   "metadata": {
    "colab": {
     "base_uri": "https://localhost:8080/"
    },
    "id": "PJmT9fvuSK5Q",
    "outputId": "88415ec1-03d8-40a2-e7aa-7fadf7ed3fd4"
   },
   "outputs": [
    {
     "name": "stdout",
     "output_type": "stream",
     "text": [
      "11 13 15 17 19 21 23 25 27 29 31 33 35 37 39 41 43 45 47 49 "
     ]
    }
   ],
   "source": [
    "#Todo\n",
    "for iteration in range(10,51):\n",
    "    if iteration % 2 != 0:\n",
    "        print(iteration, end=' ')\n"
   ]
  },
  {
   "cell_type": "markdown",
   "metadata": {
    "id": "Nw4dX_MeSK5V"
   },
   "source": [
    "### Task 7\n",
    "Write a Python code that will calculate the **value of y if the expression** of y is as follows (n is the input):  \n",
    "\n",
    "$y = 1^2 - 2^2 +3^2 -4^2 +5^2 .........+ n^2 $\n",
    "\n",
    "\n",
    "==========================================================\n",
    "\n",
    "**Example01:** \n",
    "\n",
    "**Input:**\\\n",
    "10\n",
    "\n",
    "**Output:**\\\n",
    "-55\n",
    "\n",
    "==========================================================\n",
    "\n",
    "**Example02:** \n",
    "\n",
    "**Input:**\\\n",
    "20\n",
    "\n",
    "**Output:**\\\n",
    "-210\n",
    "\n"
   ]
  },
  {
   "cell_type": "code",
   "execution_count": 6,
   "metadata": {
    "id": "BbJe-7AuSK5V",
    "outputId": "37ca9446-5a19-4a86-8521-68ba15b8ac71"
   },
   "outputs": [
    {
     "name": "stdout",
     "output_type": "stream",
     "text": [
      "Enter the value of n: 20\n",
      "-210\n"
     ]
    }
   ],
   "source": [
    "#Todo\n",
    "number = int(input('Enter the value of n: '))\n",
    "number = (number + 1)\n",
    "result = 0\n",
    "for iteration in range(number):\n",
    "    if iteration % 2 == 0:\n",
    "        iteration *= -iteration\n",
    "        result += iteration\n",
    "    else:\n",
    "        iteration *= iteration\n",
    "        result += iteration\n",
    "\n",
    "\n",
    "print(result)"
   ]
  },
  {
   "cell_type": "markdown",
   "metadata": {
    "id": "SgvBqJ9PSK5l"
   },
   "source": [
    "### Task 8\n",
    "\n",
    "Write a Python code of a program that asks the user to enter ten numbers then display the total and the average of **ONLY** the **odd numbers** among those ten numbers. <font color='red'>[Use of list is completely unnecesary for this task]</font>\n",
    "\n",
    "==========================================================\n",
    "\n",
    "**Example01:** \n",
    "\n",
    "**Input:**\\\n",
    "1\n",
    "\n",
    "2\n",
    "\n",
    "3\n",
    "\n",
    "4\n",
    "\n",
    "5\n",
    "\n",
    "6\n",
    "\n",
    "7\n",
    "\n",
    "8\n",
    "\n",
    "9\n",
    "\n",
    "10\n",
    "\n",
    "**Output:**\n",
    "Total is 25 and Average is 5.0\n",
    "\n",
    "\n",
    "**Explanation:**\n",
    "\n",
    "Total is 25 = (1+3+5+7+9) and Average is 25/5 = 5.0\n",
    "\n",
    "==========================================================\n",
    "\n",
    "\n",
    "**Example02:** \n",
    "\n",
    "**Input:**\\\n",
    "-20\n",
    "\n",
    "3\n",
    "\n",
    "-5\n",
    "\n",
    "40\n",
    "\n",
    "-17\n",
    "\n",
    "9\n",
    "\n",
    "20\n",
    "\n",
    "-8\n",
    "\n",
    "99\n",
    "  \n",
    "-200\n",
    "\n",
    "**Output:**\n",
    "\n",
    "Total is 89 and Average is 17.8\n",
    "\n",
    "\n",
    "**Explanation:**\n",
    "\n",
    "Total is 89 =(3+(-5)+(-17)+9+99) and Average is 89/5 = 17.8\n",
    "\n"
   ]
  },
  {
   "cell_type": "code",
   "execution_count": 1,
   "metadata": {
    "id": "c0akirXXSK5m",
    "outputId": "5311aa60-acf7-4976-b4cd-72460a6aadf2"
   },
   "outputs": [
    {
     "name": "stdout",
     "output_type": "stream",
     "text": [
      "Enter the number: 1\n",
      "Enter the number: 2\n",
      "Enter the number: 3\n",
      "Enter the number: 4\n",
      "Enter the number: 5\n",
      "Enter the number: 6\n",
      "Enter the number: 7\n",
      "Enter the number: 8\n",
      "Enter the number: 9\n",
      "Enter the number: 10\n",
      "Total is 25 and Average is 5.0\n"
     ]
    }
   ],
   "source": [
    "#Todo\n",
    "total = 0\n",
    "count = 0\n",
    "for iteration in range(10):\n",
    "    number = int(input('Enter the number: '))\n",
    "    if number % 2 != 0:\n",
    "        total += number\n",
    "        count += 1\n",
    "        average = total/count\n",
    "print('Total is', total, \"and Average is\", average)\n"
   ]
  },
  {
   "cell_type": "markdown",
   "metadata": {
    "id": "cGdMk_vuSK5s"
   },
   "source": [
    "### Task 9\n",
    "Write a Python code for the following:\n",
    "* Ask the user to enter a Number, N\n",
    "* Display the summation of multiples of 7 up to that number (**from 1 to N inclusive**)\n",
    "\n",
    "==========================================================\n",
    "\n",
    "**Example01:** \n",
    "\n",
    "**Input:**\\\n",
    "50\n",
    "\n",
    "**Output:**\\\n",
    "196\n",
    "\n",
    "**Explanation:**\\\n",
    "7 + 14 + 21 + 28 + 35 + 42 + 49 = 196\n",
    "\n",
    "==========================================================\n",
    "\n",
    "**Example02:** \n",
    "\n",
    "**Input:**\\\n",
    "75\n",
    "\n",
    "**Output:**\\\n",
    "385\n",
    "\n",
    "**Explanation:**\\\n",
    "7 + 14 + 21 + 28 + 35 + 42 + 49 + 56 + 63 + 70 = 385\n",
    "\n",
    "\n",
    "\n"
   ]
  },
  {
   "cell_type": "code",
   "execution_count": 8,
   "metadata": {
    "id": "zLsrA8dSSK5t",
    "outputId": "599e5f9e-66db-4141-a8c4-943e1b304ece"
   },
   "outputs": [
    {
     "name": "stdout",
     "output_type": "stream",
     "text": [
      "Enter the value of n: 75\n",
      "385\n"
     ]
    }
   ],
   "source": [
    "#Todo\n",
    "num = int(input('Enter the value of n: '))\n",
    "num = num + 1\n",
    "summation = 0\n",
    "for iteration in range(num):\n",
    "    if iteration % 7 == 0:\n",
    "        summation += iteration\n",
    "print(summation)"
   ]
  },
  {
   "cell_type": "markdown",
   "metadata": {
    "id": "OZ9pVIvhSK5w"
   },
   "source": [
    "### Task 10\n",
    "Write a Python code that will read 10 numbers from the user, and then print the first number, the sum of the first 2 numbers, the sum of the first 3 numbers, and so on up to the sum of 10 numbers.\n",
    "\n",
    "==========================================================\n",
    "\n",
    "\n",
    "For example,\n",
    "\n",
    "The user enters 10, output 10, then \\\n",
    "The user enters 2, (10+2) = 12, output 12, then \\\n",
    "The user enters 4, (10+2+4) = 16, output 16, then \\\n",
    "The user enters 20, (10+2+4+20) = 36, output 36, and continues till the 10$^{th}$ input\n"
   ]
  },
  {
   "cell_type": "code",
   "execution_count": 10,
   "metadata": {
    "id": "FCwYrfGGSK5w",
    "outputId": "df8bef1b-2c6f-458a-dbe7-a5c8ba55d456"
   },
   "outputs": [
    {
     "name": "stdout",
     "output_type": "stream",
     "text": [
      "Enter the number: 2\n",
      "2\n",
      "Enter the number: 3\n",
      "5\n",
      "Enter the number: 4\n",
      "9\n",
      "Enter the number: 2\n",
      "11\n",
      "Enter the number: 1\n",
      "12\n",
      "Enter the number: 12\n",
      "24\n",
      "Enter the number: 3\n",
      "27\n",
      "Enter the number: 7\n",
      "34\n",
      "Enter the number: 6\n",
      "40\n",
      "Enter the number: 5\n",
      "45\n"
     ]
    }
   ],
   "source": [
    "#Todo\n",
    "summation = 0\n",
    "for iteration in range(10):\n",
    "    number = int(input('Enter the number: '))\n",
    "    summation += number\n",
    "    print(summation)"
   ]
  },
  {
   "cell_type": "markdown",
   "metadata": {
    "id": "xWxrM53vvfUV"
   },
   "source": [
    "### \n",
    "\n",
    "### Task 11\n",
    "Write a Python program which takes a number and prints the digits from the unit place, then the tenth, then hundredth, etc. <font color='red'>(Right to Left)</font>\n",
    "\n",
    "<font color='red'>[Consider the input number to be an INTEGER. You are not allowed to use String indexing for solving this task]</font>\n",
    "\n",
    "**Example:** If the user gives 32768, then print 8, 6, 7, 2, 3 \n",
    "\n",
    "=========================================================================\n",
    "\n",
    "**Hint (1):**  The input() function, converts the input data to String data type by default. Use this knowledge to solve this problem.\n",
    "\n",
    "\n",
    "**Hint  (2):** First to get the digit from the right side, take the remainder of the number using modulus (%) operator and print the digit. For dropping the last digit, perform floor division by 10 on the number. Then start over.\n",
    "\n",
    "32,768 % 10 = 8 \n",
    "\n",
    "32,768 // 10 = 3, 276 \n",
    "\n",
    "3, 276 % 10 = 6\n",
    "\n",
    "3, 276 // 10 = 327 \n",
    "\n",
    "327 % 10 = 7 \n",
    "\n",
    "327 // 10 = 32 \n",
    "\n",
    "32 % 10 = 2 \n",
    "\n",
    "32 //10 = 3 \n",
    "\n",
    "3 % 10 = 3 \n",
    "\n",
    "3 // 10 = 0 \n",
    "\n",
    "Done! When the number becomes 0 your loop should end.\n",
    "\n"
   ]
  },
  {
   "cell_type": "code",
   "execution_count": 6,
   "metadata": {
    "id": "2Ntfdr2tv230"
   },
   "outputs": [
    {
     "name": "stdout",
     "output_type": "stream",
     "text": [
      "Enter a number: 2345\n",
      "5, 4, 3, 2"
     ]
    }
   ],
   "source": [
    "#Todo\n",
    "number = int(input('Enter a number: '))\n",
    "\n",
    "while number % 10 != 0:\n",
    "    if number // 10 == 0:\n",
    "        print(number, end='')\n",
    "    else:\n",
    "        result = number % 10\n",
    "        print(result, end=', ')\n",
    "    number = number // 10"
   ]
  },
  {
   "cell_type": "markdown",
   "metadata": {
    "id": "VIeR6DT9SK53"
   },
   "source": [
    "### Task 12\n",
    "\n",
    "Write a Python program that takes a number and tells how many digits are in that number. \\\n",
    "<font color='red'>[Consider the input number to be an INTEGER.]</font>\n",
    "\n",
    "<font color='red'>You are not allowed to use len() function</font>\n",
    "\n",
    "**Example:** If the user gives 9876, you should print 4. \n",
    "\n",
    "\n",
    "\n",
    "**Hint:** Keep floor dividing by ten and count how many times this could be divided. \n",
    "\n",
    "9876 floor divide by 10, is 987, count that got 1 digit (total 1) \\\n",
    "987 floor divide by 10, is 98, count that got 1 digit (total 2) \\\n",
    "98 floor divide by 10, is 9, count that got 1 digit (total 3) \\\n",
    "9 floor divide by 10, is 0, count that got 1 digit (total 4) \n",
    "\n",
    "Done! (When the number becomes 0 your loop should end.)\n",
    "\n"
   ]
  },
  {
   "cell_type": "code",
   "execution_count": 7,
   "metadata": {
    "id": "6uX3wr_gSK51",
    "outputId": "baeafe7a-e9f0-4ef5-d2c3-d2e9da518229"
   },
   "outputs": [
    {
     "name": "stdout",
     "output_type": "stream",
     "text": [
      "Enter a number: 1234\n",
      "Digit of the number: 4\n"
     ]
    }
   ],
   "source": [
    "#Todo\n",
    "number = int(input('Enter a number: '))\n",
    "digit = 1\n",
    "while number //10 != 0:\n",
    "    if number // 10 != 0:\n",
    "        digit += 1\n",
    "    number = number // 10\n",
    "print('Digit of the number:', digit)"
   ]
  },
  {
   "cell_type": "markdown",
   "metadata": {
    "id": "dUsVuzILSK50"
   },
   "source": [
    "### Task 13\n",
    "Write a Python program that takes a number from the user and prints its digits from left to right. <font color='red'> (left to right) </font>\n",
    "\n",
    "<font color='red'>[Consider the input number to be an INTEGER. You are not allowed to use String indexing for solving this task]</font>\n",
    "\n",
    "=========================================================================\n",
    "\n",
    "**Example:** if the user gives 32768, then print 3, 2, 7, 6, 8 \n",
    "\n",
    "=========================================================================\n",
    "\n",
    "**Hint(1):**  The input() function, converts the input data to String data type by default. Use this knowledge to solve this problem.\n",
    "\n",
    "**Hint(2):**  \n",
    "\n",
    "Step1: count how many digits\\\n",
    "Step2: calculate 10 to the power that (number of digits) minus 1.\n",
    "\n",
    "Step3: Say, 32768 has 5 digits, so you calculate 10 to the power 4 which is 10,000. Then divide 32,768 by 10,000 and thus you get 3.\\\n",
    "Take remainder of 32,768 by 10,000 and thus you get 2,768 Then divide 10,000 by 10 to get 1,000\\\n",
    "Then divide 2,768 by 1,000 and thus you get 2.\\\n",
    "take remainder of 2,768 by 1,000 and thus you get 768 keep going on until there is no more digits left (zero!).\n",
    "\n",
    "\n",
    "**In short:**\\\n",
    "Loop 1: First count digits, say 5 in this case for 32,768\\\n",
    "Loop 2: Then calculate 10 to the power 4 (5-1), that is 10,000.\\\n",
    "Loop 3: Then repeat following three steps\\\n",
    "32,768 // 10,000 = 3\\\n",
    "32,768 % 10,000 = 2,768 \\\n",
    "10,000//10 = 1,000\n",
    "\n",
    "2,768 // 1,000 = 2\\\n",
    "2,768 % 1,000 = 768\\\n",
    "1,000//10 = 100\n",
    "\n",
    "768 // 100 = 7\\\n",
    "768 % 100 = 68 \\\n",
    "100//10= 10\n",
    "\n",
    "68 //10 = 6\\\n",
    "68 % 10 = 8 \\\n",
    "10//10= 1\n",
    "\n",
    "8 //1 = 8\\\n",
    "8 % 1 = 0 \\\n",
    "1//10=0\n"
   ]
  },
  {
   "cell_type": "code",
   "execution_count": 12,
   "metadata": {
    "id": "IgqcBx8eSK54",
    "outputId": "28870837-f534-41eb-a974-5cc3e8ce0b0a"
   },
   "outputs": [
    {
     "name": "stdout",
     "output_type": "stream",
     "text": [
      "Enter a number: 1234\n",
      "1, 2, 3, 4\n"
     ]
    }
   ],
   "source": [
    "#Todo\n",
    "number = int(input('Enter a number: '))\n",
    "num = number\n",
    "digit = 1\n",
    "while num // 10 != 0:\n",
    "    if num // 10 != 0:\n",
    "        digit += 1\n",
    "    num = num // 10\n",
    "    \n",
    "while digit != 0:\n",
    "    if digit == 1:\n",
    "        print(number)\n",
    "    else:\n",
    "        result = number // (10**(digit-1))\n",
    "        print(result, end=', ')\n",
    "    number = number % (10**(digit-1))\n",
    "    digit -= 1"
   ]
  },
  {
   "cell_type": "markdown",
   "metadata": {
    "id": "fTbwwo3mSK6A"
   },
   "source": [
    "### Task 14\n",
    "\n",
    "Write a Python program that takes a number from the user and prints the divisors of that number and then print how many divisors were there.\n",
    "<font color='red'>[The input number has to be an INTEGER]</font>\n",
    "\n",
    "==========================================================\n",
    "\n",
    "**Example01:** \n",
    "\n",
    "**Input:**\\\n",
    "6\n",
    "\n",
    "**Output:**\\\n",
    "1, 2, 3, 6 \\\n",
    "Total 4 divisors.\n",
    "\n",
    "\n",
    "==========================================================\n",
    "\n",
    "**Example02:** \n",
    "\n",
    "**Input:**\\\n",
    "121\n",
    "\n",
    "**Output:**\\\n",
    "1, 11, 121 \\\n",
    "Total 3 divisors.\n",
    "\n",
    "\n"
   ]
  },
  {
   "cell_type": "code",
   "execution_count": 14,
   "metadata": {
    "id": "aFSd6sYXSK6A",
    "outputId": "3b3698f4-10fe-4e4d-876d-06f5792bd667"
   },
   "outputs": [
    {
     "name": "stdout",
     "output_type": "stream",
     "text": [
      "Enter a number: 6\n",
      "1, 2, 3, 6\n",
      "Total 4 divisors.\n"
     ]
    }
   ],
   "source": [
    "#Todo\n",
    "number = int(input('Enter a number: '))\n",
    "total = 1\n",
    "for iteration in range(1,number+1):\n",
    "    if iteration == number:\n",
    "        print(number)\n",
    "    elif number % iteration == 0:\n",
    "        total += 1\n",
    "        print(iteration, end=', ')\n",
    "print('Total', total, 'divisors.')"
   ]
  },
  {
   "cell_type": "markdown",
   "metadata": {
    "id": "swvpit_vSK6E"
   },
   "source": [
    "### Task 15\n",
    "Write a Python program that takes a number and tells if it is a perfect number or not. <font color='red'>[The input number has to be an INTEGER]</font>\n",
    "\n",
    "**Perfect Number:** An integer number is said to be a perfect number if its factors, including 1 but not the number itself, sum to the number.\n",
    "\n",
    "==========================================================\n",
    "\n",
    "**Example01:** \n",
    "\n",
    "**Input:**\\\n",
    "6\n",
    "\n",
    "**Output:**\\\n",
    "6 is a perfect number\n",
    "\n",
    "**Explanation:**\\\n",
    "6 have 4 divisors: 1, 2, 3, and 6. \\\n",
    "If we add all factors except itself, 6 = 1 + 2 + 3.\n",
    "\n",
    "==========================================================\n",
    "\n",
    "\n",
    "**Example02:** \n",
    "\n",
    "**Input:**\\\n",
    "28\n",
    "\n",
    "**Output:**\\\n",
    "28 is a perfect number\n",
    "\n",
    "**Explanation:**\\\n",
    "28 have 6 divisors: 1, 2, 4, 7, 14, and 28. \\\n",
    "If we add all factors except itself, 28 = 1 + 2 + 4 + 7 + 14.\n",
    "\n",
    "==========================================================\n",
    "\n",
    "**Example03:** \n",
    "\n",
    "**Input:**\\\n",
    "33\n",
    "\n",
    "**Output:**\\\n",
    "33 is not a perfect number\n",
    "\n",
    "**Explanation:**\\\n",
    "33 have 3 divisors: 1, 3, 11, and 33. \\\n",
    "If we add all factors except itself, 15 = 1 + 3 + 11.\n",
    "\n"
   ]
  },
  {
   "cell_type": "code",
   "execution_count": 12,
   "metadata": {
    "id": "WxrTdQ67SK6E",
    "outputId": "9f5ac185-e0e7-4c2b-f1e8-5d5417efc760"
   },
   "outputs": [
    {
     "name": "stdout",
     "output_type": "stream",
     "text": [
      "Enter a number: 28\n",
      "28 is a perfect number\n"
     ]
    }
   ],
   "source": [
    "#Todo\n",
    "number = int(input('Enter a number: '))\n",
    "total = 1\n",
    "count = 0\n",
    "for iteration in range(1,number):\n",
    "    if number % iteration == 0:\n",
    "        count = count + iteration\n",
    "\n",
    "if count == number:\n",
    "    print(number, 'is a perfect number')\n",
    "else:\n",
    "    print(number, 'is not a perfect number')"
   ]
  },
  {
   "cell_type": "markdown",
   "metadata": {
    "id": "JunF6mTuSK6H"
   },
   "source": [
    "### Task 16\n",
    "\n",
    "Write a Python program that asks the user for one number and tells if it is a prime number or not. <font color='red'>[The input number has to be an INTEGER]</font>\n",
    "\n",
    "**Prime Number:** If a number has only two divisors, (1 and itself), then it is prime. If it is divisible by more numbers, then it is not a prime.\n",
    "\n",
    "==========================================================\n",
    "\n",
    "**Hint:** use the divisor count from task 16. \n",
    "\n",
    "==========================================================\n",
    "\n",
    "**Example01:** \n",
    "\n",
    "**Input:**\\\n",
    "11\n",
    "\n",
    "**Output:**\\\n",
    "11 is a prime number\n",
    "\n",
    "**Explanation:**\\\n",
    "11 has only 2 divisors: 1, and 11.\n",
    "\n",
    "==========================================================\n",
    "\n",
    "**Example02:** \n",
    "\n",
    "**Input:**\\\n",
    "6\n",
    "\n",
    "**Output:**\\\n",
    "6 is not a prime number\n",
    "\n",
    "**Explanation:**\\\n",
    "6 have 4 divisors: 1, 2, 3 and 6.\n",
    "\n",
    "\n",
    "\n",
    "\n"
   ]
  },
  {
   "cell_type": "code",
   "execution_count": 13,
   "metadata": {
    "id": "s_UhmEARSK6I",
    "outputId": "44b96ad4-2f06-40eb-f2cb-dc0d18a5fe13"
   },
   "outputs": [
    {
     "name": "stdout",
     "output_type": "stream",
     "text": [
      "Enter a number: 6\n",
      "6 is not a prime number\n"
     ]
    }
   ],
   "source": [
    "#Todo\n",
    "number = int(input('Enter a number: '))\n",
    "total = 0\n",
    "for iteration in range(1,number+1):\n",
    "    if number % iteration == 0:\n",
    "        total += 1\n",
    "if total == 2:\n",
    "    print(number, 'is a prime number')\n",
    "else:\n",
    "    print(number, 'is not a prime number')"
   ]
  },
  {
   "cell_type": "markdown",
   "metadata": {
    "id": "2LrNlU1XSK6L"
   },
   "source": [
    "### Task 17\n",
    "\n",
    "Write a Python program that asks the user for a quantity then takes that many numbers and prints the maximum, minimum and average of those numbers. \n",
    "\n",
    "**<font color='red'>[CANNOT USE MAX,MIN BUILT-IN FUNCTIONS][FOR THIS TASK YOU DO NOT NEED TO USE LISTS]</font>** \n",
    "\n",
    "==========================================================\n",
    "\n",
    "**Example01:** If the user enters 5 as an input for quantity. Then enters 10, 4, -1, -100, and 1. \\\n",
    "Your program output should be: “Maximum 10”, “Minimum -100”, “Average is -17.2”\n",
    "\n",
    "**Input:**\\\n",
    "5\n",
    "10\n",
    "4\n",
    "-1\n",
    "-100\n",
    "1.\n",
    "\n",
    "**Output:**\\\n",
    "Maximum 10\\\n",
    "Minimum -100\\\n",
    "Average is -17.2\n",
    "\n",
    "**Explanation:**\\\n",
    "Average calculation: (10+4 + (-1) + (-100) + 1)/5 = -86/5=-17.2\n",
    "\n"
   ]
  },
  {
   "cell_type": "code",
   "execution_count": 16,
   "metadata": {
    "id": "TK68v25sSK6L",
    "outputId": "90438b03-a36b-469f-802c-ad3086e30d8d"
   },
   "outputs": [
    {
     "name": "stdout",
     "output_type": "stream",
     "text": [
      "Enter quantity: 3\n",
      "Enter number: 3\n",
      "Enter number: 5\n",
      "Enter number: 7\n",
      "Maximum 7\n",
      "Minimum 3\n",
      "Average is 5.0\n"
     ]
    }
   ],
   "source": [
    "#Todo\n",
    "quantity = int(input('Enter quantity: '))\n",
    "number = int(input('Enter number: '))\n",
    "maximum, minimum, summation = number, number, number\n",
    "for iteration in range(1, quantity):\n",
    "    number = int(input('Enter number: '))\n",
    "    summation += number\n",
    "    if number < minimum:\n",
    "        minimum = number\n",
    "    elif number > maximum:\n",
    "        maximum = number\n",
    "        \n",
    "average = float(summation / quantity)\n",
    "print('Maximum', maximum)\n",
    "print('Minimum', minimum)\n",
    "print('Average is', average)"
   ]
  },
  {
   "cell_type": "markdown",
   "metadata": {
    "id": "QLXvNSiOxhlI"
   },
   "source": [
    "## Task 18\n",
    "\n",
    "Write a python program that prints a square of size N using + where N will be given as input.\n",
    "\n",
    "=======================================\n",
    "\n",
    "**Sample Input**\n",
    "5\n",
    "\n",
    "**Sample Output**<br>\n",
    "+++++<br>\n",
    "+++++<br>\n",
    "+++++<br>\n",
    "+++++<br>\n",
    "+++++<br>\n",
    "\n",
    "\n",
    "=======================================\n",
    "\n",
    "**Sample Input**\n",
    "3\n",
    "\n",
    "**Sample Output**<br>\n",
    "+++<br>\n",
    "+++<br>\n",
    "+++<br>"
   ]
  },
  {
   "cell_type": "code",
   "execution_count": 2,
   "metadata": {
    "id": "nuU0BJmQwsSa",
    "outputId": "54ca008c-f363-4566-c888-7afdc5903736"
   },
   "outputs": [
    {
     "name": "stdout",
     "output_type": "stream",
     "text": [
      "Enter the value of n: 5\n",
      "+++++\n",
      "+++++\n",
      "+++++\n",
      "+++++\n",
      "+++++\n"
     ]
    }
   ],
   "source": [
    "#Todo\n",
    "num = int(input('Enter the value of n: '))\n",
    "sign ='+'\n",
    "plus =''\n",
    "for iteration in range(num):\n",
    "    print(sign, end='')\n",
    "    plus += sign\n",
    "print()\n",
    "for count in range(num-1):\n",
    "    print(plus)"
   ]
  },
  {
   "cell_type": "code",
   "execution_count": 18,
   "metadata": {},
   "outputs": [
    {
     "name": "stdout",
     "output_type": "stream",
     "text": [
      "Enter the value of n: 5\n",
      "+++++\n",
      "+++++\n",
      "+++++\n",
      "+++++\n",
      "+++++\n"
     ]
    }
   ],
   "source": [
    "num = int(input('Enter the value of n: '))\n",
    "for i in range(num):\n",
    "    for j in range(num):\n",
    "        print('+', end='')\n",
    "    print()"
   ]
  },
  {
   "cell_type": "code",
   "execution_count": 19,
   "metadata": {},
   "outputs": [
    {
     "name": "stdout",
     "output_type": "stream",
     "text": [
      "Enter the value of n: 5\n",
      "+++++\n",
      "+++++\n",
      "+++++\n",
      "+++++\n",
      "+++++\n"
     ]
    }
   ],
   "source": [
    "num = int(input('Enter the value of n: '))\n",
    "for i in range(num):\n",
    "    print('+'*num)"
   ]
  },
  {
   "cell_type": "markdown",
   "metadata": {
    "id": "9tK1-MjFwqM-"
   },
   "source": [
    "### Task 19\n",
    "\n",
    "Write a python program that prints a rectangle of size M (height/line numbers) and N(length/column numbers) using incrementing numbers where M,N will be given as input.\n",
    "\n",
    "===================================\n",
    "\n",
    "**Sample Input**\n",
    "4,6\n",
    "\n",
    "**Sample Output**<br>\n",
    "123456<br>\n",
    "123456<br>\n",
    "123456<br>\n",
    "123456<br>\n",
    "\n",
    "\n",
    "===================================\n",
    "\n",
    "\n",
    "**Sample Input**\n",
    "3,2\n",
    "\n",
    "**Sample Output**<br>\n",
    "12<br>\n",
    "12<br>\n",
    "12<br>\n"
   ]
  },
  {
   "cell_type": "code",
   "execution_count": 21,
   "metadata": {
    "colab": {
     "base_uri": "https://localhost:8080/"
    },
    "id": "KcyhD8gNxYdi",
    "outputId": "7b0d3e06-7650-4e81-c8c2-ac2f6f70aca9"
   },
   "outputs": [
    {
     "name": "stdout",
     "output_type": "stream",
     "text": [
      "Enter M,N: 4,6\n",
      "123456\n",
      "123456\n",
      "123456\n",
      "123456\n"
     ]
    }
   ],
   "source": [
    "#Todo\n",
    "M,N = input('Enter M,N: ').split(\",\")\n",
    "length = int(M)\n",
    "width = int(N)\n",
    "for iterate in range(length):\n",
    "    for iteration in range(1, width+1):\n",
    "        print(iteration, end='')\n",
    "    print()\n"
   ]
  },
  {
   "cell_type": "markdown",
   "metadata": {
    "id": "ReUpRcLuw0_b"
   },
   "source": [
    "### Task 20\n",
    "\n",
    "Write a python program that prints a right angled triangle of height N using incrementing numbers where N will be given as input.\n",
    "\n",
    "====================================\n",
    "\n",
    "**Sample Input**\n",
    "4\n",
    "\n",
    "**Sample Output**<br>\n",
    "1<br>\n",
    "12<br>\n",
    "123<br>\n",
    "1234<br>\n",
    "\n",
    "====================================\n",
    "\n",
    "**Sample Input**\n",
    "5\n",
    "\n",
    "**Sample Output**<br>\n",
    "1<br>\n",
    "12<br>\n",
    "123<br>\n",
    "1234<br>\n",
    "12345<br>"
   ]
  },
  {
   "cell_type": "code",
   "execution_count": 4,
   "metadata": {
    "colab": {
     "base_uri": "https://localhost:8080/"
    },
    "id": "UtqBxocnxai9",
    "outputId": "d3961f41-6162-4bdc-e759-d7e2f6033272"
   },
   "outputs": [
    {
     "name": "stdout",
     "output_type": "stream",
     "text": [
      "Enter a nubmer: 5\n",
      "1\n",
      "12\n",
      "123\n",
      "1234\n",
      "12345\n"
     ]
    }
   ],
   "source": [
    "#Todo\n",
    "num = int(input('Enter a nubmer: '))\n",
    "for iteration in range(1,num+1):\n",
    "    for count in range(1,iteration+1):\n",
    "        print(count, end='')\n",
    "    print()"
   ]
  },
  {
   "cell_type": "markdown",
   "metadata": {},
   "source": []
  },
  {
   "cell_type": "markdown",
   "metadata": {
    "id": "AWbbbs5mSK6O"
   },
   "source": [
    "## Optional Tasks (21 -26) [Ungraded]"
   ]
  },
  {
   "cell_type": "markdown",
   "metadata": {
    "id": "a0SjEWlsw6Vt"
   },
   "source": [
    "### Task 21\n",
    "\n",
    "Write a python program that prints all the fibonacci number from 0 to N where N will be given. \n",
    "\n",
    "**A Fibonacci number is a number which is the summation of its previous two fibonacci number.**\n",
    "\n",
    "First two fibonacci number are 0 and 1. So the 3rd Fib will be 0+1=1, 4th Fib will be 1+1=2, 5th Fib will be 1+2=3 and so on.\n",
    "\n",
    "==============================\n",
    "\n",
    "**Sample Input**<br>\n",
    "10\n",
    "\n",
    "**Sample Output**<br>\n",
    "0 1 1 2 3 5 8\n",
    "\n",
    "==============================\n",
    "\n",
    "\n",
    "**Sample Input**<br>\n",
    "15\n",
    "\n",
    "**Sample Output**<br>\n",
    "0 1 1 2 3 5 8 13"
   ]
  },
  {
   "cell_type": "code",
   "execution_count": 18,
   "metadata": {
    "id": "vQhQFFBWx-h0"
   },
   "outputs": [
    {
     "name": "stdout",
     "output_type": "stream",
     "text": [
      "0 1 1 2 3 5 8 13 "
     ]
    }
   ],
   "source": [
    "#Todo\n",
    "user_num = 15\n",
    "print('0 1 ', end='')\n",
    "num1 = 0\n",
    "num2 = 1\n",
    "result = 0\n",
    "while result < user_num:\n",
    "    result = num1 + num2\n",
    "    num1 = num2\n",
    "    num2 = result\n",
    "    if result < user_num:\n",
    "        print(result,'', end='')"
   ]
  },
  {
   "cell_type": "code",
   "execution_count": 34,
   "metadata": {},
   "outputs": [
    {
     "name": "stdout",
     "output_type": "stream",
     "text": [
      "0 1 1 2 3 5 8 13 "
     ]
    }
   ],
   "source": [
    "num = 15\n",
    "num1 = 0\n",
    "num2 = 1\n",
    "result = 0\n",
    "while result < num:\n",
    "    print(result, end=' ')\n",
    "    result = num1 + num2\n",
    "    num2 = num1\n",
    "    num1 = result"
   ]
  },
  {
   "cell_type": "markdown",
   "metadata": {
    "id": "bByH1fWsw7av"
   },
   "source": [
    "### Task 22\n",
    "\n",
    "Write a python program that converts a Decimal Integer number to a Binary Number. \n",
    "\n",
    "**A decimal can be converted to a binary number by keeping track of the remainders after each division of that number by 2. **\n",
    "\n",
    "================================\n",
    "\n",
    "For example, to convert 10 to a binary number, we can follow the following approach\n",
    "\n",
    "10/2 = 5 (Remainder 0) \n",
    "<br>5/2 = 2 (Remainder 1) \n",
    "<br>2/2 = 1 (Remainder 0) \n",
    "<br>1/2 = 0 (Remainder 1) \n",
    "\n",
    "Take the remainders from bottom to top, which is, 1010. Binary of 10 is 1010.\n",
    "\n",
    "**Sample Input** <br>\n",
    "10\n",
    "\n",
    "**Sample Output**<br>\n",
    "1010\n",
    "\n",
    "================================\n",
    "\n",
    "For example, to convert 13 to a binary number, we can follow the following approach\n",
    "\n",
    "13/2 = 6 (Remainder 1) \n",
    "<br>6/2 = 3 (Remainder 0) \n",
    "<br>3/2 = 1 (Remainder 1) \n",
    "<br>1/2 = 0 (Remainder 1) \n",
    "\n",
    "Take the remainders from bottom to top, which is, 1101. Binary of 13 is 1101.\n",
    "\n",
    "**Sample Input** <br>\n",
    "13\n",
    "\n",
    "**Sample Output**<br>\n",
    "1101"
   ]
  },
  {
   "cell_type": "code",
   "execution_count": 31,
   "metadata": {
    "id": "AEXGx3skyBha"
   },
   "outputs": [
    {
     "name": "stdout",
     "output_type": "stream",
     "text": [
      "1101"
     ]
    }
   ],
   "source": [
    "#Todo\n",
    "decimal = 13\n",
    "string = ''\n",
    "while decimal != 0:\n",
    "    binary = decimal % 2\n",
    "    decimal = decimal //2\n",
    "    string += str(binary)\n",
    "for index in range(len(string)-1, -1, -1):\n",
    "    print(string[index], end='')"
   ]
  },
  {
   "cell_type": "markdown",
   "metadata": {
    "id": "g_aR1Ozgw_rr"
   },
   "source": [
    "### Task 23\n",
    "\n",
    "Write a python program that converts a Binary number to a Decimal Integer Number. \n",
    "\n",
    "**A binary number can be converted to its corresponding decimal number by multiplying each binary digit with a power of 2 where the power denotes the position of the binary digit**\n",
    "\n",
    "========================================\n",
    "\n",
    "For example, to convert 1010, we can do this -\n",
    "\n",
    "\n",
    "$2^{3}$ x 1 + $2^{2}$ x 0 + $2^{1}$ x 1 + $2^{0}$ x 0 = 10\n",
    "\n",
    "\n",
    "**Sample Input** <br>\n",
    "1010\n",
    "\n",
    "**Sample Output** <br>\n",
    "10\n",
    "\n",
    "========================================\n",
    "\n",
    "For example, to convert 1101, we can do this -\n",
    "\n",
    "\n",
    "$2^{3}$ x 1 + $2^{2}$ x 1 + $2^{1}$ x 0 + $2^{0}$ x 1 = 13\n",
    "\n",
    "\n",
    "**Sample Input** <br>\n",
    "1101\n",
    "\n",
    "**Sample Output** <br>\n",
    "13"
   ]
  },
  {
   "cell_type": "code",
   "execution_count": 40,
   "metadata": {
    "id": "ZZmhMI6VyCky"
   },
   "outputs": [
    {
     "name": "stdout",
     "output_type": "stream",
     "text": [
      "13\n"
     ]
    }
   ],
   "source": [
    "#Todo\n",
    "binary = 1101\n",
    "binary = str(binary)\n",
    "digit = len(str(binary)) - 1\n",
    "total = 0\n",
    "index = 0\n",
    "while digit != -1:\n",
    "    decimal = int(binary[index]) * (2 ** digit)\n",
    "    total += decimal\n",
    "    index += 1\n",
    "    digit -= 1\n",
    "print(total)"
   ]
  },
  {
   "cell_type": "markdown",
   "metadata": {
    "id": "GymIX5_vSK6Q"
   },
   "source": [
    "### Task 24\n",
    "\n",
    "Take five numbers from the user and find the minimum and the average of **only the even** numbers entered by the user. [If the user enters odd numbers ignore them] \n",
    "\n",
    "**<font color='red'>[CANNOT USE MAX,MIN BUILT-IN FUNCTIONS] [FOR THIS TASK YOU DO NOT NEED TO USE LISTS]</font>** \n",
    "\n",
    "Assume, the first input is always an even number.\n",
    "\n",
    "============================================================\n",
    "\n",
    "**Example01:** If the user enters 10, 4, -1, -100, and 1. \\\n",
    "Output: “Minimum -100”, “Average is 28.66667”\n",
    "\n",
    "**Input:**\\\n",
    "10\n",
    "\n",
    "4\n",
    "\n",
    "-1\n",
    "\n",
    "-100\n",
    "\n",
    "1\n",
    "\n",
    "**Output:**\\\n",
    "Minimum -100\\\n",
    "Average is 28.66667\n",
    "\n",
    "**Explanation:**\\\n",
    "Average calculation: (10+4 + (-100))/3 = -86/3=-28.66667\n",
    "\n",
    "============================================================\n",
    "\n",
    "**Example02:** If the user enters 2, 10, 1, 21, and 3. \\\n",
    "Output: Minimum 2”, “Average is 6.0”\n",
    "\n",
    "**Input:**\\\n",
    "2\n",
    "\n",
    "10\n",
    "\n",
    "1\n",
    "\n",
    "21\n",
    "\n",
    "3\n",
    "\n",
    "**Output:**\\\n",
    "Minimum 2\\\n",
    "Average is 6.0\n",
    "\n",
    "**Explanation:**\\\n",
    "Average calculation: (2+10)/2 = 12/2= 6\n",
    "\n",
    "\n",
    "\n"
   ]
  },
  {
   "cell_type": "code",
   "execution_count": 45,
   "metadata": {
    "id": "CnrBzeq1SK6R"
   },
   "outputs": [
    {
     "name": "stdout",
     "output_type": "stream",
     "text": [
      "Enter number: 2\n",
      "Enter number: 10\n",
      "Enter number: 1\n",
      "Enter number: 21\n",
      "Enter number: 3\n",
      "Minimum 2\n",
      "Average is 6.0\n"
     ]
    }
   ],
   "source": [
    "#Todo\n",
    "minimum = int(input('Enter number: '))\n",
    "total = minimum\n",
    "count = 1\n",
    "for i in range(4):\n",
    "    num = int(input('Enter number: '))\n",
    "    if num % 2 == 0:\n",
    "        if num < minimum:\n",
    "            minimum = num\n",
    "        total += int(num)\n",
    "        count += 1\n",
    "average = total/count\n",
    "print('Minimum', minimum)\n",
    "print('Average is', average)"
   ]
  },
  {
   "cell_type": "markdown",
   "metadata": {
    "id": "F2iSIEcHSK6U"
   },
   "source": [
    "# Task 25\n",
    "\n",
    "Write a Python code for the following:\n",
    "* Ask the user to enter a number, N (Total number of inputs to be taken). Assume that the user will never enter the first number as zero.\n",
    "* Take N number of inputs\n",
    "* Prints out the product of all the numbers read\n",
    "\n",
    "For example, if the first input is 4, then the program has to read in four numbers from the user and print the product of these four numbers. \n",
    "\n",
    "=========================================================================\n",
    "\n",
    "**Example01:**\n",
    "\n",
    "**Input:**\\\n",
    "5 \n",
    "\n",
    "10 \n",
    "\n",
    "6 \n",
    "\n",
    "4 \n",
    "\n",
    "2 \n",
    "\n",
    "1 \n",
    "\n",
    "**Output:**\\\n",
    "480\n",
    "\n",
    "**Explanation:**\\\n",
    "5 is the total number of inputs taken. Then, the calculation should be 10 X 6 X 4 X 2 X 1 = 480 \n",
    "\n",
    "\n",
    "\n",
    "\n",
    "\n"
   ]
  },
  {
   "cell_type": "code",
   "execution_count": 47,
   "metadata": {
    "id": "NFDi7tjZSK6U"
   },
   "outputs": [
    {
     "name": "stdout",
     "output_type": "stream",
     "text": [
      "Enter the inputs number: 5\n",
      "Enter number: 10\n",
      "Enter number: 6\n",
      "Enter number: 4\n",
      "Enter number: 2\n",
      "Enter number: 1\n",
      "480\n"
     ]
    }
   ],
   "source": [
    "#Todo\n",
    "num = int(input('Enter the inputs number: '))\n",
    "total = 1\n",
    "for i in range(num):\n",
    "    number = int(input('Enter number: '))\n",
    "    total *= number\n",
    "print(total)"
   ]
  },
  {
   "cell_type": "markdown",
   "metadata": {
    "id": "1Ef3zxQsSK6Y"
   },
   "source": [
    "### Task 26\n",
    "Ask the user for a range (a starting number and an ending number). \n",
    "**Count** how many numbers are prime numbers and how many numbers are perfect numbers between that range and **print** those numbers. \n",
    "\n",
    "\n",
    "=========================================================================\n",
    "\n",
    "**Hint (1):** Declare two strings/lists to store the prime and perfect numbers. Inside the iteration store the values of the prime and perfect numbers in the pre- declared variables.\n",
    "\n",
    "**Hint (2):**\n",
    "\n",
    "\n",
    "ans = \"Prime numbers: \"\\\n",
    "prime_value = 11\n",
    "ans = ans + str(prime_value) + \" \"\\\n",
    "print(ans)\n",
    "\n",
    "ans = ans + str(13) + \" \"\\\n",
    "print(ans)\n",
    "\n",
    "*Output:*\n",
    "\n",
    "Prime numbers: 11 \\\n",
    "Prime numbers: 11 13 \n",
    "\n",
    "=========================================================================\n",
    "\n",
    "**Example:**between 2 and 6, there are 3 prime numbers (2, 3, 5) and 1 perfect number (6). \n",
    "\n",
    "**Input:**\\\n",
    "2\n",
    "\n",
    "6\n",
    "\n",
    "**Output:**\\\n",
    "Between 2 and 6,\\\n",
    "Found 3 prime numbers \\\n",
    "Found 1 perfect number\\\n",
    "Prime numbers: 2  3  5 \\\n",
    "Perfect numbers: 6 \n",
    "\n"
   ]
  },
  {
   "cell_type": "code",
   "execution_count": 49,
   "metadata": {
    "id": "_YU9xdPBSK6Y"
   },
   "outputs": [
    {
     "name": "stdout",
     "output_type": "stream",
     "text": [
      "Enter the start: 2\n",
      "Enter the ending number: 6\n",
      "Between 2 and 6\n",
      "Found 1 perfect number\n",
      "Found 3 prime numbers\n",
      "Prime numbers: 2 3 5 \n",
      "Perfect numbers: 6\n"
     ]
    }
   ],
   "source": [
    "#Todo\n",
    "count = 0\n",
    "start = int(input('Enter the start: '))\n",
    "ending = int(input('Enter the ending number: '))\n",
    "print('Between', start, 'and', ending)\n",
    "string = ''\n",
    "for i in range(start, ending + 1):\n",
    "    if (i % 2 != 0 or i / 2 == 1) and (i % 3 != 0 or i / 3 == 1):\n",
    "        count += 1\n",
    "        string += str(i)\n",
    "\n",
    "string_perfect = ''\n",
    "perfect_element = 0\n",
    "for i in range(start, ending+1):\n",
    "    value = 0\n",
    "    for iteration in range(1, i):\n",
    "        if i % (iteration) == 0:\n",
    "            value += iteration\n",
    "    if value == i:\n",
    "        string_perfect += str(i)\n",
    "        perfect_element += 1\n",
    "print('Found', perfect_element, 'perfect number')\n",
    "print('Found', count, 'prime numbers')\n",
    "print('Prime numbers: ', end='')\n",
    "for i in string:\n",
    "    print(i, '', end='')\n",
    "print('\\nPerfect numbers:', string_perfect)"
   ]
  },
  {
   "cell_type": "code",
   "execution_count": null,
   "metadata": {},
   "outputs": [],
   "source": []
  }
 ],
 "metadata": {
  "colab": {
   "collapsed_sections": [],
   "name": "21301178_MohammedAbdulAlArafatTanzin_10_CSE110Assignment2.ipynb",
   "provenance": []
  },
  "kernelspec": {
   "display_name": "Python 3",
   "language": "python",
   "name": "python3"
  },
  "language_info": {
   "codemirror_mode": {
    "name": "ipython",
    "version": 3
   },
   "file_extension": ".py",
   "mimetype": "text/x-python",
   "name": "python",
   "nbconvert_exporter": "python",
   "pygments_lexer": "ipython3",
   "version": "3.8.8"
  }
 },
 "nbformat": 4,
 "nbformat_minor": 1
}
